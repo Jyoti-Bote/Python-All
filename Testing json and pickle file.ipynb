{
 "cells": [
  {
   "cell_type": "code",
   "execution_count": 32,
   "id": "f693408a",
   "metadata": {},
   "outputs": [],
   "source": [
    "import pandas as pd\n",
    "import numpy as np\n",
    "import json\n",
    "import pickle\n",
    "\n",
    "import warnings\n",
    "warnings.filterwarnings(\"ignore\")"
   ]
  },
  {
   "cell_type": "code",
   "execution_count": 33,
   "id": "da9fe090",
   "metadata": {},
   "outputs": [
    {
     "data": {
      "text/plain": [
       "{'fuel_type_values': {'gas': 1, 'diesel': 0},\n",
       " 'aspiration_values': {'std': 0, 'turbo': 1},\n",
       " 'num_of_doors_values': {'four': 4, 'two': 2},\n",
       " 'num_of_cylinders_values': {'four': 4,\n",
       "  'six': 6,\n",
       "  'five': 5,\n",
       "  'eight': 8,\n",
       "  'two': 2,\n",
       "  'three': 3,\n",
       "  'twelve': 12},\n",
       " 'drive_wheels_values': {'fwd': 0, 'rwd': 1, '4wd': 2},\n",
       " 'engine_location_values': {'front': 0, 'rear': 1},\n",
       " 'column_names': ['symboling',\n",
       "  'normalized-losses',\n",
       "  'fuel-type',\n",
       "  'aspiration',\n",
       "  'num-of-doors',\n",
       "  'drive-wheels',\n",
       "  'engine-location',\n",
       "  'wheel-base',\n",
       "  'length',\n",
       "  'width',\n",
       "  'height',\n",
       "  'curb-weight',\n",
       "  'num-of-cylinders',\n",
       "  'engine-size',\n",
       "  'bore',\n",
       "  'stroke',\n",
       "  'compression-ratio',\n",
       "  'horsepower',\n",
       "  'peak-rpm',\n",
       "  'city-mpg',\n",
       "  'highway-mpg',\n",
       "  'make_alfa-romero',\n",
       "  'make_audi',\n",
       "  'make_bmw',\n",
       "  'make_chevrolet',\n",
       "  'make_dodge',\n",
       "  'make_honda',\n",
       "  'make_isuzu',\n",
       "  'make_jaguar',\n",
       "  'make_mazda',\n",
       "  'make_mercedes-benz',\n",
       "  'make_mercury',\n",
       "  'make_mitsubishi',\n",
       "  'make_nissan',\n",
       "  'make_peugot',\n",
       "  'make_plymouth',\n",
       "  'make_porsche',\n",
       "  'make_renault',\n",
       "  'make_saab',\n",
       "  'make_subaru',\n",
       "  'make_toyota',\n",
       "  'make_volkswagen',\n",
       "  'make_volvo',\n",
       "  'body-style_convertible',\n",
       "  'body-style_hardtop',\n",
       "  'body-style_hatchback',\n",
       "  'body-style_sedan',\n",
       "  'body-style_wagon',\n",
       "  'engine-type_dohc',\n",
       "  'engine-type_dohcv',\n",
       "  'engine-type_l',\n",
       "  'engine-type_ohc',\n",
       "  'engine-type_ohcf',\n",
       "  'engine-type_ohcv',\n",
       "  'engine-type_rotor',\n",
       "  'fuel-system_1bbl',\n",
       "  'fuel-system_2bbl',\n",
       "  'fuel-system_4bbl',\n",
       "  'fuel-system_idi',\n",
       "  'fuel-system_mfi',\n",
       "  'fuel-system_mpfi',\n",
       "  'fuel-system_spdi',\n",
       "  'fuel-system_spfi']}"
      ]
     },
     "execution_count": 33,
     "metadata": {},
     "output_type": "execute_result"
    }
   ],
   "source": [
    "#read json\n",
    "\n",
    "with open(\"LinearRegmodel.json\",'r')as f:\n",
    "    data=json.load(f)\n",
    "data    "
   ]
  },
  {
   "cell_type": "code",
   "execution_count": 34,
   "id": "4702575d",
   "metadata": {},
   "outputs": [
    {
     "data": {
      "text/html": [
       "<style>#sk-container-id-2 {color: black;}#sk-container-id-2 pre{padding: 0;}#sk-container-id-2 div.sk-toggleable {background-color: white;}#sk-container-id-2 label.sk-toggleable__label {cursor: pointer;display: block;width: 100%;margin-bottom: 0;padding: 0.3em;box-sizing: border-box;text-align: center;}#sk-container-id-2 label.sk-toggleable__label-arrow:before {content: \"▸\";float: left;margin-right: 0.25em;color: #696969;}#sk-container-id-2 label.sk-toggleable__label-arrow:hover:before {color: black;}#sk-container-id-2 div.sk-estimator:hover label.sk-toggleable__label-arrow:before {color: black;}#sk-container-id-2 div.sk-toggleable__content {max-height: 0;max-width: 0;overflow: hidden;text-align: left;background-color: #f0f8ff;}#sk-container-id-2 div.sk-toggleable__content pre {margin: 0.2em;color: black;border-radius: 0.25em;background-color: #f0f8ff;}#sk-container-id-2 input.sk-toggleable__control:checked~div.sk-toggleable__content {max-height: 200px;max-width: 100%;overflow: auto;}#sk-container-id-2 input.sk-toggleable__control:checked~label.sk-toggleable__label-arrow:before {content: \"▾\";}#sk-container-id-2 div.sk-estimator input.sk-toggleable__control:checked~label.sk-toggleable__label {background-color: #d4ebff;}#sk-container-id-2 div.sk-label input.sk-toggleable__control:checked~label.sk-toggleable__label {background-color: #d4ebff;}#sk-container-id-2 input.sk-hidden--visually {border: 0;clip: rect(1px 1px 1px 1px);clip: rect(1px, 1px, 1px, 1px);height: 1px;margin: -1px;overflow: hidden;padding: 0;position: absolute;width: 1px;}#sk-container-id-2 div.sk-estimator {font-family: monospace;background-color: #f0f8ff;border: 1px dotted black;border-radius: 0.25em;box-sizing: border-box;margin-bottom: 0.5em;}#sk-container-id-2 div.sk-estimator:hover {background-color: #d4ebff;}#sk-container-id-2 div.sk-parallel-item::after {content: \"\";width: 100%;border-bottom: 1px solid gray;flex-grow: 1;}#sk-container-id-2 div.sk-label:hover label.sk-toggleable__label {background-color: #d4ebff;}#sk-container-id-2 div.sk-serial::before {content: \"\";position: absolute;border-left: 1px solid gray;box-sizing: border-box;top: 0;bottom: 0;left: 50%;z-index: 0;}#sk-container-id-2 div.sk-serial {display: flex;flex-direction: column;align-items: center;background-color: white;padding-right: 0.2em;padding-left: 0.2em;position: relative;}#sk-container-id-2 div.sk-item {position: relative;z-index: 1;}#sk-container-id-2 div.sk-parallel {display: flex;align-items: stretch;justify-content: center;background-color: white;position: relative;}#sk-container-id-2 div.sk-item::before, #sk-container-id-2 div.sk-parallel-item::before {content: \"\";position: absolute;border-left: 1px solid gray;box-sizing: border-box;top: 0;bottom: 0;left: 50%;z-index: -1;}#sk-container-id-2 div.sk-parallel-item {display: flex;flex-direction: column;z-index: 1;position: relative;background-color: white;}#sk-container-id-2 div.sk-parallel-item:first-child::after {align-self: flex-end;width: 50%;}#sk-container-id-2 div.sk-parallel-item:last-child::after {align-self: flex-start;width: 50%;}#sk-container-id-2 div.sk-parallel-item:only-child::after {width: 0;}#sk-container-id-2 div.sk-dashed-wrapped {border: 1px dashed gray;margin: 0 0.4em 0.5em 0.4em;box-sizing: border-box;padding-bottom: 0.4em;background-color: white;}#sk-container-id-2 div.sk-label label {font-family: monospace;font-weight: bold;display: inline-block;line-height: 1.2em;}#sk-container-id-2 div.sk-label-container {text-align: center;}#sk-container-id-2 div.sk-container {/* jupyter's `normalize.less` sets `[hidden] { display: none; }` but bootstrap.min.css set `[hidden] { display: none !important; }` so we also need the `!important` here to be able to override the default hidden behavior on the sphinx rendered scikit-learn.org. See: https://github.com/scikit-learn/scikit-learn/issues/21755 */display: inline-block !important;position: relative;}#sk-container-id-2 div.sk-text-repr-fallback {display: none;}</style><div id=\"sk-container-id-2\" class=\"sk-top-container\"><div class=\"sk-text-repr-fallback\"><pre>LinearRegression()</pre><b>In a Jupyter environment, please rerun this cell to show the HTML representation or trust the notebook. <br />On GitHub, the HTML representation is unable to render, please try loading this page with nbviewer.org.</b></div><div class=\"sk-container\" hidden><div class=\"sk-item\"><div class=\"sk-estimator sk-toggleable\"><input class=\"sk-toggleable__control sk-hidden--visually\" id=\"sk-estimator-id-2\" type=\"checkbox\" checked><label for=\"sk-estimator-id-2\" class=\"sk-toggleable__label sk-toggleable__label-arrow\">LinearRegression</label><div class=\"sk-toggleable__content\"><pre>LinearRegression()</pre></div></div></div></div></div>"
      ],
      "text/plain": [
       "LinearRegression()"
      ]
     },
     "execution_count": 34,
     "metadata": {},
     "output_type": "execute_result"
    }
   ],
   "source": [
    "#read pickle file\n",
    "\n",
    "with open(\"LinearRegmodel.pkl\",'rb') as f:\n",
    "    model=pickle.load(f)\n",
    "model   "
   ]
  },
  {
   "cell_type": "code",
   "execution_count": 35,
   "id": "84d156fa",
   "metadata": {},
   "outputs": [],
   "source": [
    "column_names=np.array(data[\"column_names\"])"
   ]
  },
  {
   "cell_type": "code",
   "execution_count": 36,
   "id": "3f17a993",
   "metadata": {},
   "outputs": [
    {
     "data": {
      "text/plain": [
       "array(['symboling', 'normalized-losses', 'fuel-type', 'aspiration',\n",
       "       'num-of-doors', 'drive-wheels', 'engine-location', 'wheel-base',\n",
       "       'length', 'width', 'height', 'curb-weight', 'num-of-cylinders',\n",
       "       'engine-size', 'bore', 'stroke', 'compression-ratio', 'horsepower',\n",
       "       'peak-rpm', 'city-mpg', 'highway-mpg', 'make_alfa-romero',\n",
       "       'make_audi', 'make_bmw', 'make_chevrolet', 'make_dodge',\n",
       "       'make_honda', 'make_isuzu', 'make_jaguar', 'make_mazda',\n",
       "       'make_mercedes-benz', 'make_mercury', 'make_mitsubishi',\n",
       "       'make_nissan', 'make_peugot', 'make_plymouth', 'make_porsche',\n",
       "       'make_renault', 'make_saab', 'make_subaru', 'make_toyota',\n",
       "       'make_volkswagen', 'make_volvo', 'body-style_convertible',\n",
       "       'body-style_hardtop', 'body-style_hatchback', 'body-style_sedan',\n",
       "       'body-style_wagon', 'engine-type_dohc', 'engine-type_dohcv',\n",
       "       'engine-type_l', 'engine-type_ohc', 'engine-type_ohcf',\n",
       "       'engine-type_ohcv', 'engine-type_rotor', 'fuel-system_1bbl',\n",
       "       'fuel-system_2bbl', 'fuel-system_4bbl', 'fuel-system_idi',\n",
       "       'fuel-system_mfi', 'fuel-system_mpfi', 'fuel-system_spdi',\n",
       "       'fuel-system_spfi'], dtype='<U22')"
      ]
     },
     "execution_count": 36,
     "metadata": {},
     "output_type": "execute_result"
    }
   ],
   "source": [
    "column_names"
   ]
  },
  {
   "cell_type": "markdown",
   "id": "60b4af66",
   "metadata": {},
   "source": [
    "# User entered values"
   ]
  },
  {
   "cell_type": "code",
   "execution_count": 37,
   "id": "44ce0edc",
   "metadata": {},
   "outputs": [],
   "source": [
    "symboling = 3.00\n",
    "normalized_losses = 118.00\n",
    "fuel_type = \"gas\"\n",
    "aspiration = \"turbo\"\n",
    "num_of_doors = \"four\"\n",
    "drive_wheels = \"4wd\"\n",
    "engine_location = \"rear\"\n",
    "wheel_base = 88.60\n",
    "length = 170.80\n",
    "width = 64.10\n",
    "height = 50.80\n",
    "curb_weight = 2600.00\n",
    "num_of_cylinders = \"five\"\n",
    "engine_size = 130.00\n",
    "bore = 3.47\n",
    "stroke = 2.68\n",
    "compression_ratio = 9.00\n",
    "horsepower = 111.00\n",
    "peak_rpm = 6000.00\n",
    "city_mpg = 21.00\n",
    "highway_mpg = 27.00\n",
    "\n",
    "# onehot encoded columns\n",
    "engine_type = \"ohc\"\n",
    "body_style = \"sedan\"\n",
    "fuel_system = \"mpfi\"\n",
    "make = \"audi\" "
   ]
  },
  {
   "cell_type": "code",
   "execution_count": 38,
   "id": "8cbb3305",
   "metadata": {},
   "outputs": [
    {
     "data": {
      "text/plain": [
       "1"
      ]
     },
     "execution_count": 38,
     "metadata": {},
     "output_type": "execute_result"
    }
   ],
   "source": [
    "#Label encoded columns \n",
    "data['aspiration_values'][aspiration]"
   ]
  },
  {
   "cell_type": "code",
   "execution_count": 39,
   "id": "ca8a5ad3",
   "metadata": {},
   "outputs": [
    {
     "name": "stdout",
     "output_type": "stream",
     "text": [
      "engine-type_ohc\n",
      "body-style_sedan\n",
      "fuel-system_mpfi\n",
      "make_audi\n"
     ]
    }
   ],
   "source": [
    "# onehot encoded columns\n",
    "engine_type_col = \"engine-type_\"+engine_type\n",
    "body_style_col = \"body-style_\"+body_style\n",
    "fuel_system_col = \"fuel-system_\"+fuel_system\n",
    "make_col = \"make_\"+make \n",
    "\n",
    "print(engine_type_col)\n",
    "print(body_style_col)\n",
    "print(fuel_system_col)\n",
    "print(make_col)"
   ]
  },
  {
   "cell_type": "code",
   "execution_count": 40,
   "id": "e272afd8",
   "metadata": {},
   "outputs": [
    {
     "name": "stdout",
     "output_type": "stream",
     "text": [
      "51\n",
      "46\n",
      "60\n",
      "22\n"
     ]
    }
   ],
   "source": [
    "engine_type_index=np.where(column_names==engine_type_col)[0][0]\n",
    "body_style_index=np.where(column_names==body_style_col)[0][0]\n",
    "fuel_system_index=np.where(column_names==fuel_system_col)[0][0]\n",
    "make_index=np.where(column_names==make_col)[0][0]\n",
    "print(engine_type_index)\n",
    "print(body_style_index)\n",
    "print(fuel_system_index)\n",
    "print(make_index)"
   ]
  },
  {
   "cell_type": "code",
   "execution_count": 42,
   "id": "08a000d8",
   "metadata": {},
   "outputs": [
    {
     "data": {
      "text/plain": [
       "array([   3,  118,    1,    1,    4,    2,    1,   88,  170,   64,   50,\n",
       "       2600,    5,  130,    3,    2,    9,  111, 6000,   21,   27,    0,\n",
       "          1,    0,    0,    0,    0,    0,    0,    0,    0,    0,    0,\n",
       "          0,    0,    0,    0,    0,    0,    0,    0,    0,    0,    0,\n",
       "          0,    0,    1,    0,    0,    0,    0,    1,    0,    0,    0,\n",
       "          0,    0,    0,    0,    0,    1,    0,    0])"
      ]
     },
     "execution_count": 42,
     "metadata": {},
     "output_type": "execute_result"
    }
   ],
   "source": [
    "array=np.zeros(len(data['column_names']),dtype=int)\n",
    "array\n",
    "\n",
    "array[0]=symboling\n",
    "array[1]=normalized_losses\n",
    "array[2]=data[\"fuel_type_values\"][fuel_type]\n",
    "array[3]=data[\"aspiration_values\"][aspiration]\n",
    "array[4]=data[\"num_of_doors_values\"][num_of_doors]\n",
    "array[5]=data['drive_wheels_values'][drive_wheels]\n",
    "array[6]=data['engine_location_values'][engine_location]\n",
    "array[7]=wheel_base\n",
    "array[8]=length\n",
    "array[9]=width\n",
    "array[10]=height\n",
    "array[11]=curb_weight\n",
    "array[12]=data['num_of_cylinders_values'][num_of_cylinders]\n",
    "array[13]=engine_size\n",
    "array[14]=bore\n",
    "array[15]=stroke\n",
    "array[16]=compression_ratio\n",
    "array[17]=horsepower\n",
    "array[18]=peak_rpm\n",
    "array[19]=city_mpg\n",
    "array[20]=highway_mpg\n",
    "\n",
    "#one hot encoded columns index we need to find first as we cannot manual know \n",
    "# and then put that index to enable the column\n",
    "\n",
    "array[engine_type_index]=1\n",
    "array[body_style_index]=1\n",
    "array[fuel_system_index]=1\n",
    "array[make_index]=1\n",
    "\n",
    "\n",
    "array"
   ]
  },
  {
   "cell_type": "code",
   "execution_count": 45,
   "id": "7976d043",
   "metadata": {},
   "outputs": [
    {
     "name": "stdout",
     "output_type": "stream",
     "text": [
      "Prediction of your car Price is : $ 24672.1\n"
     ]
    }
   ],
   "source": [
    "prediction=model.predict([array])[0]\n",
    "print(\"Prediction of your car Price is : $\", round(prediction, 2))"
   ]
  },
  {
   "cell_type": "code",
   "execution_count": null,
   "id": "253ab736",
   "metadata": {},
   "outputs": [],
   "source": []
  }
 ],
 "metadata": {
  "kernelspec": {
   "display_name": "Python 3 (ipykernel)",
   "language": "python",
   "name": "python3"
  },
  "language_info": {
   "codemirror_mode": {
    "name": "ipython",
    "version": 3
   },
   "file_extension": ".py",
   "mimetype": "text/x-python",
   "name": "python",
   "nbconvert_exporter": "python",
   "pygments_lexer": "ipython3",
   "version": "3.11.5"
  }
 },
 "nbformat": 4,
 "nbformat_minor": 5
}
